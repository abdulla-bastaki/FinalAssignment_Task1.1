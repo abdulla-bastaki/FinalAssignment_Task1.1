{
 "cells": [
  {
   "cell_type": "code",
   "execution_count": null,
   "id": "53bc78fa-2a4c-4533-8e85-1b855c5e9e62",
   "metadata": {},
   "outputs": [],
   "source": [
    "%pip install pandas numpy matplotlib seaborn folium\n",
    "\n",
    "#Import required libraries\n",
    "import numpy as np\n",
    "import pandas as pd\n",
    "import matplotlib as mpl\n",
    "import matplotlib.pyplot as plt\n",
    "import seaborn as sns\n",
    "import folium\n",
    "%matplotlib inline\n",
    "\n",
    "#create data for plotting\n",
    "df_line = df.groupby(df['Year'])['Automobile_Sales'].mean()\n",
    "#create figure\n",
    "plt.figure(figsize=(12, 9))\n",
    "df_line.plot(kind = 'line')\n",
    "plt.xticks(list(range(1980,2024)), rotation=75)\n",
    "plt.xlabel('Years')\n",
    "plt.ylabel('Automobile Sales')\n",
    "plt.title('Automobile Sales During Recession')\n",
    "plt.text(1980, 650, '1980 Recession', rotation=90)\n",
    "plt.text(1981.5, 1000, '1981-82 Recession', rotation=90)\n",
    "plt.text(1991, 1000, '1991 Recession', rotation=90)\n",
    "plt.text(2001, 2140, '2001-02 Recession', rotation=310)\n",
    "plt.text(2009, 600, '2007-09 Recession', rotation=75)\n",
    "plt.text(2017, 1900, 'Feb-Apr 2020 Recession', rotation=10)\n",
    "plt.text(2020, 1870, 'Covid-19 Impact', rotation=10)\n",
    "plt.legend()\n",
    "plt.show()"
   ]
  }
 ],
 "metadata": {
  "kernelspec": {
   "display_name": "Python 3 (ipykernel)",
   "language": "python",
   "name": "python3"
  },
  "language_info": {
   "codemirror_mode": {
    "name": "ipython",
    "version": 3
   },
   "file_extension": ".py",
   "mimetype": "text/x-python",
   "name": "python",
   "nbconvert_exporter": "python",
   "pygments_lexer": "ipython3",
   "version": "3.11.5"
  }
 },
 "nbformat": 4,
 "nbformat_minor": 5
}
